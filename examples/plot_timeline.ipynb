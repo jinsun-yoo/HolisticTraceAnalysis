{
 "cells": [
  {
   "cell_type": "markdown",
   "id": "e3d553e3",
   "metadata": {
    "pycharm": {
     "name": "#%% md\n"
    }
   },
   "source": [
    "# Import library"
   ]
  },
  {
   "cell_type": "code",
   "execution_count": 8,
   "id": "4cd2e8b7",
   "metadata": {
    "jupyter": {
     "outputs_hidden": false
    },
    "pycharm": {
     "name": "#%%\n"
    }
   },
   "outputs": [
    {
     "ename": "ModuleNotFoundError",
     "evalue": "No module named 'hta.common.trace'",
     "output_type": "error",
     "traceback": [
      "\u001b[0;31m---------------------------------------------------------------------------\u001b[0m",
      "\u001b[0;31mModuleNotFoundError\u001b[0m                       Traceback (most recent call last)",
      "Cell \u001b[0;32mIn[8], line 3\u001b[0m\n\u001b[1;32m      1\u001b[0m \u001b[38;5;28;01mimport\u001b[39;00m \u001b[38;5;21;01mos\u001b[39;00m\n\u001b[1;32m      2\u001b[0m \u001b[38;5;28;01mimport\u001b[39;00m \u001b[38;5;21;01mpandas\u001b[39;00m \u001b[38;5;28;01mas\u001b[39;00m \u001b[38;5;21;01mpd\u001b[39;00m\n\u001b[0;32m----> 3\u001b[0m \u001b[38;5;28;01mfrom\u001b[39;00m \u001b[38;5;21;01mhta\u001b[39;00m\u001b[38;5;21;01m.\u001b[39;00m\u001b[38;5;21;01mcommon\u001b[39;00m\u001b[38;5;21;01m.\u001b[39;00m\u001b[38;5;21;01mtrace\u001b[39;00m \u001b[38;5;28;01mimport\u001b[39;00m Trace\n\u001b[1;32m      4\u001b[0m \u001b[38;5;28;01mfrom\u001b[39;00m \u001b[38;5;21;01mhta\u001b[39;00m\u001b[38;5;21;01m.\u001b[39;00m\u001b[38;5;21;01mconfigs\u001b[39;00m\u001b[38;5;21;01m.\u001b[39;00m\u001b[38;5;21;01mconfig\u001b[39;00m \u001b[38;5;28;01mimport\u001b[39;00m logger\n\u001b[1;32m      5\u001b[0m \u001b[38;5;28;01mfrom\u001b[39;00m \u001b[38;5;21;01mhta\u001b[39;00m\u001b[38;5;21;01m.\u001b[39;00m\u001b[38;5;21;01manalyzers\u001b[39;00m\u001b[38;5;21;01m.\u001b[39;00m\u001b[38;5;21;01mtimeline\u001b[39;00m \u001b[38;5;28;01mimport\u001b[39;00m plot_timeline_gpu_kernels\n",
      "\u001b[0;31mModuleNotFoundError\u001b[0m: No module named 'hta.common.trace'"
     ]
    }
   ],
   "source": [
    "import os\n",
    "import pandas as pd\n",
    "from hta.common.trace import Trace\n",
    "from hta.configs.config import logger\n",
    "from hta.analyzers.timeline import plot_timeline_gpu_kernels\n",
    "\n",
    "from pathlib import Path"
   ]
  },
  {
   "cell_type": "markdown",
   "id": "ef88116a-62d8-4150-80b9-9dc178dff936",
   "metadata": {
    "jupyter": {
     "outputs_hidden": false
    },
    "pycharm": {
     "name": "#%%\n"
    }
   },
   "source": [
    "## Display figures on github\n",
    "\n",
    "+ The following cell enables the figures visible on github but causes the figure being  non-interactive.\n",
    "\n",
    "+ To enable interactive viewing of the figures, set `ON_GITHUB = False` when running this notebook outside github.\n",
    "\n",
    "+ To run all cells to get all the figures."
   ]
  },
  {
   "cell_type": "code",
   "execution_count": 2,
   "id": "76211817",
   "metadata": {
    "jupyter": {
     "outputs_hidden": false
    },
    "pycharm": {
     "name": "#%%\n"
    }
   },
   "outputs": [],
   "source": [
    "# ON_GITHUB = True\n",
    "ON_GITHUB = False\n",
    "if ON_GITHUB:\n",
    "    import plotly.io as pio\n",
    "    pio.renderers.default = \"svg\""
   ]
  },
  {
   "cell_type": "markdown",
   "id": "d3c452ad",
   "metadata": {
    "pycharm": {
     "name": "#%% md\n"
    }
   },
   "source": [
    "# Load Trace Data"
   ]
  },
  {
   "cell_type": "code",
   "execution_count": null,
   "id": "96422be5",
   "metadata": {
    "pycharm": {
     "name": "#%%\n"
    },
    "tags": []
   },
   "outputs": [],
   "source": [
    "%%time\n",
    "\"\"\"\n",
    "# Detect the HolisticTraceAnalysis project path\n",
    "project_path_candidates=!find ~/ -name HolisticTraceAnalysis\n",
    "for p in project_path_candidates:\n",
    "    if os.path.exists(p) and os.path.exists(Path(p).joinpath(\"hta\")):\n",
    "        base_dir = p\n",
    "        break\n",
    "        \n",
    "# Specify a trace folder\n",
    "# Ensure the sample datasets exists\n",
    "assert base_dir is not None\n",
    "assert os.path.exists(f\"{base_dir}/tests/data/vision_transformer\")\n",
    "\n",
    "trace_dir = str(Path(base_dir).joinpath(\"tests/data/vision_transformer\"))\n",
    "\"\"\"\n",
    "trace_dir = \"/workspace/chakra_fx/20241104_Simple_1DFSDP/profiled_trace/compile\"\n",
    "logger.info(f\"Using traces from folder {trace_dir}\")\n",
    "\n",
    "# Parse the traces\n",
    "trace_data = Trace(trace_dir=trace_dir)\n",
    "trace_data.parse_traces()"
   ]
  },
  {
   "cell_type": "markdown",
   "id": "280808e4",
   "metadata": {
    "pycharm": {
     "name": "#%% md\n"
    }
   },
   "source": [
    "# Prepare a DataFrame that contains all the traces"
   ]
  },
  {
   "cell_type": "code",
   "execution_count": null,
   "id": "f3f2af98",
   "metadata": {
    "jupyter": {
     "outputs_hidden": false
    },
    "pycharm": {
     "name": "#%%\n"
    }
   },
   "outputs": [],
   "source": [
    "%%time\n",
    "_ranks = list(trace_data.get_all_traces().keys())\n",
    "df = pd.concat([trace_data.get_trace(r) for r in _ranks], axis=0, keys=_ranks, names=[\"rank\", \"idx\"]).reset_index()\n",
    "symbol_table = trace_data.symbol_table"
   ]
  },
  {
   "cell_type": "code",
   "execution_count": null,
   "id": "0f9f74f9",
   "metadata": {},
   "outputs": [],
   "source": [
    "df"
   ]
  },
  {
   "cell_type": "code",
   "execution_count": 6,
   "id": "178a3602",
   "metadata": {},
   "outputs": [],
   "source": [
    "new_df = df[df['rank']<4]"
   ]
  },
  {
   "cell_type": "code",
   "execution_count": null,
   "id": "16b77d84",
   "metadata": {},
   "outputs": [],
   "source": [
    "new_df"
   ]
  },
  {
   "cell_type": "markdown",
   "id": "960077c8",
   "metadata": {
    "pycharm": {
     "name": "#%% md\n"
    }
   },
   "source": [
    "# Example #1 - Plot GPU kernels on all ranks for one iteration"
   ]
  },
  {
   "cell_type": "code",
   "execution_count": null,
   "id": "f9af1320",
   "metadata": {
    "jupyter": {
     "outputs_hidden": false
    },
    "pycharm": {
     "name": "#%%\n"
    }
   },
   "outputs": [],
   "source": [
    "%%time\n",
    "plot_timeline_gpu_kernels(\"Timeline of GPU Kernels (Iteration=15)\", new_df, symbol_table, iterations=[15], duration_threshold=2000)"
   ]
  },
  {
   "cell_type": "markdown",
   "id": "a2a5194f",
   "metadata": {
    "pycharm": {
     "name": "#%% md\n"
    }
   },
   "source": [
    "# Example #2 - Plot compute kernels for two iterations"
   ]
  },
  {
   "cell_type": "code",
   "execution_count": null,
   "id": "bbaaf699",
   "metadata": {
    "jupyter": {
     "outputs_hidden": false
    },
    "pycharm": {
     "name": "#%%\n"
    }
   },
   "outputs": [],
   "source": [
    "%%time\n",
    "s_map = pd.Series(symbol_table.get_sym_id_map())\n",
    "non_computer_name_ids = s_map[\n",
    "    s_map.index.str.startswith(\"ncclKernel\")\n",
    "    | s_map.index.str.startswith(\"Memset\")\n",
    "    | s_map.index.str.startswith(\"Memcpy\")\n",
    "].values\n",
    "compute_df = df.loc[~df[\"name\"].isin(non_computer_name_ids)]\n",
    "plot_timeline_gpu_kernels(\"Timeline of Compute Kernels (Iteration = [15, 16])\", compute_df, symbol_table, iterations=[15, 16], duration_threshold=2000)"
   ]
  },
  {
   "cell_type": "markdown",
   "id": "43efb533",
   "metadata": {
    "pycharm": {
     "name": "#%% md\n"
    }
   },
   "source": [
    "# Example #3 - Plot compute kernels on one stream for one iterations "
   ]
  },
  {
   "cell_type": "code",
   "execution_count": null,
   "id": "23efc541",
   "metadata": {
    "jupyter": {
     "outputs_hidden": false
    },
    "pycharm": {
     "name": "#%%\n"
    }
   },
   "outputs": [],
   "source": [
    "s_map = pd.Series(symbol_table.get_sym_id_map())\n",
    "non_compute_name_ids = s_map[\n",
    "    s_map.index.str.startswith(\"ncclKernel\")\n",
    "    | s_map.index.str.startswith(\"Memset\")\n",
    "    | s_map.index.str.startswith(\"Memcpy\")\n",
    "].values\n",
    "compute_df = df.loc[~df[\"name\"].isin(non_compute_name_ids)]\n",
    "plot_timeline_gpu_kernels(\"Timeline of Computer Kernels (Iteration=16, Stream=7)\", compute_df, symbol_table, iterations=[16], streams=[7], duration_threshold=2000)"
   ]
  },
  {
   "cell_type": "markdown",
   "id": "ad61d8ea",
   "metadata": {
    "pycharm": {
     "name": "#%% md\n"
    }
   },
   "source": [
    "# Example 4 - Plot all communication kernels on all iterations"
   ]
  },
  {
   "cell_type": "code",
   "execution_count": null,
   "id": "737fb72b",
   "metadata": {
    "jupyter": {
     "outputs_hidden": false
    },
    "pycharm": {
     "name": "#%%\n"
    }
   },
   "outputs": [],
   "source": [
    "%%time\n",
    "s_map = pd.Series(symbol_table.get_sym_id_map())\n",
    "communicate_name_ids = s_map[\n",
    "    s_map.index.str.startswith(\"ncclKernel\")\n",
    "].values\n",
    "communicate_df = df.loc[df[\"name\"].isin(communicate_name_ids)]\n",
    "plot_timeline_gpu_kernels(\"Timeline of All Communication Kernels\", communicate_df, symbol_table, duration_threshold=2000)"
   ]
  },
  {
   "cell_type": "markdown",
   "id": "62a7726e-5ddd-48fb-b8e1-50f3ed1057f1",
   "metadata": {
    "jupyter": {
     "outputs_hidden": false
    },
    "pycharm": {
     "name": "#%%\n"
    }
   },
   "source": [
    "# Example 5 - Plot all-to-all communication kernels on ranks 0, 1, 2"
   ]
  },
  {
   "cell_type": "code",
   "execution_count": null,
   "id": "43ebccdd",
   "metadata": {
    "jupyter": {
     "outputs_hidden": false
    },
    "pycharm": {
     "name": "#%%\n"
    }
   },
   "outputs": [],
   "source": [
    "%%time\n",
    "s_map = pd.Series(symbol_table.get_sym_id_map())\n",
    "communicate_name_ids = s_map[\n",
    "    s_map.index.str.startswith(\"ncclKernel_ReduceScatter\")\n",
    "].values\n",
    "communicate_df = df.loc[df[\"name\"].isin(communicate_name_ids)]\n",
    "plot_timeline_gpu_kernels(\"All-to-All Communication Kernels on Ranks [0, 1, 2]\", communicate_df, symbol_table, ranks=[0, 1, 2], duration_threshold=2000)"
   ]
  }
 ],
 "metadata": {
  "kernelspec": {
   "display_name": "Python 3",
   "language": "python",
   "name": "python3"
  },
  "language_info": {
   "codemirror_mode": {
    "name": "ipython",
    "version": 3
   },
   "file_extension": ".py",
   "mimetype": "text/x-python",
   "name": "python",
   "nbconvert_exporter": "python",
   "pygments_lexer": "ipython3",
   "version": "3.12.3"
  }
 },
 "nbformat": 4,
 "nbformat_minor": 5
}
